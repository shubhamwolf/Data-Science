{
 "cells": [
  {
   "cell_type": "code",
   "execution_count": 1,
   "id": "d76b7136",
   "metadata": {},
   "outputs": [],
   "source": [
    "mylist = [\"apple\", \"orange\", \"plum\",\"Pineapple\"]"
   ]
  },
  {
   "cell_type": "code",
   "execution_count": 2,
   "id": "1336bbda",
   "metadata": {},
   "outputs": [
    {
     "data": {
      "text/plain": [
       "['apple', 'orange', 'plum', 'Pineapple']"
      ]
     },
     "execution_count": 2,
     "metadata": {},
     "output_type": "execute_result"
    }
   ],
   "source": [
    "mylist"
   ]
  },
  {
   "cell_type": "code",
   "execution_count": 3,
   "id": "496c6d38",
   "metadata": {},
   "outputs": [
    {
     "data": {
      "text/plain": [
       "4"
      ]
     },
     "execution_count": 3,
     "metadata": {},
     "output_type": "execute_result"
    }
   ],
   "source": [
    "#Length of List\n",
    "len(mylist)"
   ]
  },
  {
   "cell_type": "code",
   "execution_count": 5,
   "id": "5fd743d8",
   "metadata": {},
   "outputs": [
    {
     "name": "stdout",
     "output_type": "stream",
     "text": [
      "<class 'list'>\n"
     ]
    }
   ],
   "source": [
    "#Type\n",
    "type(mylist)\n",
    "print(type(mylist))"
   ]
  },
  {
   "cell_type": "code",
   "execution_count": 6,
   "id": "6324d2db",
   "metadata": {},
   "outputs": [
    {
     "data": {
      "text/plain": [
       "True"
      ]
     },
     "execution_count": 6,
     "metadata": {},
     "output_type": "execute_result"
    }
   ],
   "source": [
    "# In list\n",
    "\"orange\" in mylist"
   ]
  },
  {
   "cell_type": "code",
   "execution_count": 7,
   "id": "bde47648",
   "metadata": {},
   "outputs": [
    {
     "data": {
      "text/plain": [
       "False"
      ]
     },
     "execution_count": 7,
     "metadata": {},
     "output_type": "execute_result"
    }
   ],
   "source": [
    "\"mango\" in mylist"
   ]
  },
  {
   "cell_type": "code",
   "execution_count": 8,
   "id": "a8c10775",
   "metadata": {},
   "outputs": [],
   "source": [
    "#Append\n",
    "mylist.append(\"watermelon\")"
   ]
  },
  {
   "cell_type": "code",
   "execution_count": 9,
   "id": "5079f844",
   "metadata": {},
   "outputs": [
    {
     "data": {
      "text/plain": [
       "['apple', 'orange', 'plum', 'Pineapple', 'watermelon']"
      ]
     },
     "execution_count": 9,
     "metadata": {},
     "output_type": "execute_result"
    }
   ],
   "source": [
    "mylist"
   ]
  },
  {
   "cell_type": "code",
   "execution_count": 10,
   "id": "d626487d",
   "metadata": {},
   "outputs": [],
   "source": [
    "#insert\n",
    "mylist.insert(3,\"mango\")"
   ]
  },
  {
   "cell_type": "code",
   "execution_count": 11,
   "id": "e03381dc",
   "metadata": {},
   "outputs": [
    {
     "data": {
      "text/plain": [
       "['apple', 'orange', 'plum', 'mango', 'Pineapple', 'watermelon']"
      ]
     },
     "execution_count": 11,
     "metadata": {},
     "output_type": "execute_result"
    }
   ],
   "source": [
    "mylist"
   ]
  },
  {
   "cell_type": "code",
   "execution_count": 12,
   "id": "ae0aeee4",
   "metadata": {},
   "outputs": [
    {
     "data": {
      "text/plain": [
       "['kiwi', 'orange']"
      ]
     },
     "execution_count": 12,
     "metadata": {},
     "output_type": "execute_result"
    }
   ],
   "source": [
    "mylist2 = [\"kiwi\", \"orange\"]\n",
    "mylist2"
   ]
  },
  {
   "cell_type": "code",
   "execution_count": 13,
   "id": "bdda5820",
   "metadata": {},
   "outputs": [
    {
     "data": {
      "text/plain": [
       "['apple',\n",
       " 'orange',\n",
       " 'plum',\n",
       " 'mango',\n",
       " 'Pineapple',\n",
       " 'watermelon',\n",
       " 'kiwi',\n",
       " 'orange']"
      ]
     },
     "execution_count": 13,
     "metadata": {},
     "output_type": "execute_result"
    }
   ],
   "source": [
    "#Extend\n",
    "mylist.extend(mylist2)\n",
    "mylist\n",
    "#It allows duplicate values like orange"
   ]
  },
  {
   "cell_type": "code",
   "execution_count": 14,
   "id": "a6f8796f",
   "metadata": {},
   "outputs": [
    {
     "data": {
      "text/plain": [
       "['apple', 'orange', 'plum', 'mango', 'Pineapple', 'watermelon', 'orange']"
      ]
     },
     "execution_count": 14,
     "metadata": {},
     "output_type": "execute_result"
    }
   ],
   "source": [
    "# Remove\n",
    "mylist.remove(\"kiwi\")\n",
    "mylist\n",
    "#without Index value"
   ]
  },
  {
   "cell_type": "code",
   "execution_count": 15,
   "id": "c9022264",
   "metadata": {},
   "outputs": [
    {
     "data": {
      "text/plain": [
       "'orange'"
      ]
     },
     "execution_count": 15,
     "metadata": {},
     "output_type": "execute_result"
    }
   ],
   "source": [
    "#pop\n",
    "mylist.pop()\n",
    "#returns popped value works as LIFO\n",
    "#also takes argument by index value"
   ]
  },
  {
   "cell_type": "code",
   "execution_count": 17,
   "id": "2a10b1dd",
   "metadata": {},
   "outputs": [],
   "source": [
    "#Clear\n",
    "mylist2.clear()"
   ]
  },
  {
   "cell_type": "code",
   "execution_count": 18,
   "id": "4f964ec2",
   "metadata": {},
   "outputs": [
    {
     "data": {
      "text/plain": [
       "[]"
      ]
     },
     "execution_count": 18,
     "metadata": {},
     "output_type": "execute_result"
    }
   ],
   "source": [
    "mylist2"
   ]
  },
  {
   "cell_type": "code",
   "execution_count": 19,
   "id": "32d166b0",
   "metadata": {},
   "outputs": [],
   "source": [
    "#Delete list \n",
    "del mylist2\n"
   ]
  },
  {
   "cell_type": "code",
   "execution_count": 20,
   "id": "87589971",
   "metadata": {},
   "outputs": [
    {
     "ename": "NameError",
     "evalue": "name 'mylist2' is not defined",
     "output_type": "error",
     "traceback": [
      "\u001b[1;31m---------------------------------------------------------------------------\u001b[0m",
      "\u001b[1;31mNameError\u001b[0m                                 Traceback (most recent call last)",
      "Cell \u001b[1;32mIn[20], line 1\u001b[0m\n\u001b[1;32m----> 1\u001b[0m mylist2\n",
      "\u001b[1;31mNameError\u001b[0m: name 'mylist2' is not defined"
     ]
    }
   ],
   "source": [
    "mylist2"
   ]
  },
  {
   "cell_type": "code",
   "execution_count": 21,
   "id": "913370b1",
   "metadata": {},
   "outputs": [
    {
     "data": {
      "text/plain": [
       "['Pineapple', 'apple', 'mango', 'orange', 'plum', 'watermelon']"
      ]
     },
     "execution_count": 21,
     "metadata": {},
     "output_type": "execute_result"
    }
   ],
   "source": [
    "#sort\n",
    "mylist.sort()\n",
    "mylist\n",
    "#Upper case letters are first arranged then lower case"
   ]
  },
  {
   "cell_type": "code",
   "execution_count": 22,
   "id": "5ed666d6",
   "metadata": {},
   "outputs": [
    {
     "data": {
      "text/plain": [
       "['watermelon', 'plum', 'orange', 'mango', 'apple', 'Pineapple']"
      ]
     },
     "execution_count": 22,
     "metadata": {},
     "output_type": "execute_result"
    }
   ],
   "source": [
    "#reverse sort\n",
    "mylist.sort(reverse = True)\n",
    "mylist"
   ]
  },
  {
   "cell_type": "code",
   "execution_count": 23,
   "id": "7dafc5e0",
   "metadata": {},
   "outputs": [
    {
     "data": {
      "text/plain": [
       "['Pineapple', 'apple', 'mango', 'orange', 'plum', 'watermelon']"
      ]
     },
     "execution_count": 23,
     "metadata": {},
     "output_type": "execute_result"
    }
   ],
   "source": [
    "#Reverse\n",
    "mylist.reverse()\n",
    "mylist"
   ]
  },
  {
   "cell_type": "code",
   "execution_count": 24,
   "id": "ed4fece9",
   "metadata": {},
   "outputs": [
    {
     "name": "stdout",
     "output_type": "stream",
     "text": [
      "['a', 'b', 'c', 1, 2, 3]\n"
     ]
    }
   ],
   "source": [
    "# join\n",
    "list1 = [\"a\", \"b\", \"c\"]\n",
    "list2 = [1, 2, 3]\n",
    "\n",
    "list3 = list1 + list2\n",
    "print(list3)"
   ]
  },
  {
   "cell_type": "code",
   "execution_count": 26,
   "id": "9355ee73",
   "metadata": {},
   "outputs": [
    {
     "data": {
      "text/plain": [
       "1"
      ]
     },
     "execution_count": 26,
     "metadata": {},
     "output_type": "execute_result"
    }
   ],
   "source": [
    "#count\n",
    "mylist.count(\"apple\")\n",
    "#argument is compulsory"
   ]
  },
  {
   "cell_type": "code",
   "execution_count": 28,
   "id": "057e7999",
   "metadata": {},
   "outputs": [
    {
     "data": {
      "text/plain": [
       "2"
      ]
     },
     "execution_count": 28,
     "metadata": {},
     "output_type": "execute_result"
    }
   ],
   "source": [
    "#Index \n",
    "mylist.index(\"mango\")\n",
    "#argument is compulsory"
   ]
  },
  {
   "cell_type": "code",
   "execution_count": 29,
   "id": "aa6568bc",
   "metadata": {},
   "outputs": [
    {
     "name": "stdout",
     "output_type": "stream",
     "text": [
      "['apple', 'banana', 'cherry']\n"
     ]
    }
   ],
   "source": [
    "#copy\n",
    "thislist = [\"apple\", \"banana\", \"cherry\"]\n",
    "mylist = thislist.copy()\n",
    "print(mylist)"
   ]
  },
  {
   "cell_type": "code",
   "execution_count": 30,
   "id": "cfbd1361",
   "metadata": {},
   "outputs": [
    {
     "data": {
      "text/plain": [
       "['apple', 'banana', 'cherry']"
      ]
     },
     "execution_count": 30,
     "metadata": {},
     "output_type": "execute_result"
    }
   ],
   "source": [
    "mylist\n",
    "#overwrites the variable mylist"
   ]
  },
  {
   "cell_type": "code",
   "execution_count": 31,
   "id": "17c50b2c",
   "metadata": {},
   "outputs": [
    {
     "name": "stdout",
     "output_type": "stream",
     "text": [
      "['apple', 'banana', 'cherry']\n"
     ]
    }
   ],
   "source": [
    "#list method\n",
    "thislist = [\"apple\", \"banana\", \"cherry\"]\n",
    "mylist = list(thislist)\n",
    "print(mylist)\n",
    "#overwrites the variable mylist"
   ]
  },
  {
   "cell_type": "code",
   "execution_count": null,
   "id": "f5ddd2fa",
   "metadata": {},
   "outputs": [],
   "source": []
  }
 ],
 "metadata": {
  "kernelspec": {
   "display_name": "Python 3 (ipykernel)",
   "language": "python",
   "name": "python3"
  },
  "language_info": {
   "codemirror_mode": {
    "name": "ipython",
    "version": 3
   },
   "file_extension": ".py",
   "mimetype": "text/x-python",
   "name": "python",
   "nbconvert_exporter": "python",
   "pygments_lexer": "ipython3",
   "version": "3.11.3"
  }
 },
 "nbformat": 4,
 "nbformat_minor": 5
}
