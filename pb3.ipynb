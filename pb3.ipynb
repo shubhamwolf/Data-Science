{
 "cells": [
  {
   "cell_type": "code",
   "execution_count": 13,
   "id": "c1bce892",
   "metadata": {},
   "outputs": [],
   "source": [
    "tup = ()  \n"
   ]
  },
  {
   "cell_type": "code",
   "execution_count": null,
   "id": "813d551d",
   "metadata": {},
   "outputs": [],
   "source": [
    "type(tup)"
   ]
  },
  {
   "cell_type": "code",
   "execution_count": 16,
   "id": "91da2f9d",
   "metadata": {},
   "outputs": [],
   "source": [
    "t1 = (10,30,60)"
   ]
  },
  {
   "cell_type": "code",
   "execution_count": 15,
   "id": "184df203",
   "metadata": {},
   "outputs": [],
   "source": [
    "t2 = (10.77,30.66,60.89) "
   ]
  },
  {
   "cell_type": "code",
   "execution_count": null,
   "id": "af40dc88",
   "metadata": {},
   "outputs": [],
   "source": [
    "t3=('one','two','three')"
   ]
  },
  {
   "cell_type": "code",
   "execution_count": null,
   "id": "aaece675",
   "metadata": {},
   "outputs": [],
   "source": [
    "t4=('data',25,(50,100),(150,90))"
   ]
  },
  {
   "cell_type": "code",
   "execution_count": null,
   "id": "1a5f74b6",
   "metadata": {},
   "outputs": [],
   "source": [
    "t5=(100,'data',17.765)\n"
   ]
  },
  {
   "cell_type": "code",
   "execution_count": null,
   "id": "522c796e",
   "metadata": {},
   "outputs": [],
   "source": [
    "len(tup)"
   ]
  },
  {
   "cell_type": "code",
   "execution_count": null,
   "id": "f9cc0f57",
   "metadata": {},
   "outputs": [],
   "source": [
    "len(t4)"
   ]
  },
  {
   "cell_type": "code",
   "execution_count": null,
   "id": "18e0d2f3",
   "metadata": {},
   "outputs": [],
   "source": [
    "t2[2]"
   ]
  },
  {
   "cell_type": "code",
   "execution_count": 14,
   "id": "699f11d1",
   "metadata": {},
   "outputs": [],
   "source": [
    "t2=(1,2,'apple',15,True)"
   ]
  },
  {
   "cell_type": "code",
   "execution_count": null,
   "id": "a005f36c",
   "metadata": {},
   "outputs": [],
   "source": [
    "del t2[1]"
   ]
  },
  {
   "cell_type": "code",
   "execution_count": null,
   "id": "3cddbfa5",
   "metadata": {},
   "outputs": [],
   "source": [
    "t2"
   ]
  },
  {
   "cell_type": "markdown",
   "id": "5a634074",
   "metadata": {},
   "source": [
    "del t2"
   ]
  },
  {
   "cell_type": "code",
   "execution_count": null,
   "id": "65b6e785",
   "metadata": {},
   "outputs": [],
   "source": [
    "del t2"
   ]
  },
  {
   "cell_type": "code",
   "execution_count": 1,
   "id": "23a6f55c",
   "metadata": {},
   "outputs": [],
   "source": [
    "myset={}"
   ]
  },
  {
   "cell_type": "code",
   "execution_count": 2,
   "id": "756d8525",
   "metadata": {},
   "outputs": [
    {
     "data": {
      "text/plain": [
       "dict"
      ]
     },
     "execution_count": 2,
     "metadata": {},
     "output_type": "execute_result"
    }
   ],
   "source": [
    "type(myset)"
   ]
  },
  {
   "cell_type": "code",
   "execution_count": 3,
   "id": "53985250",
   "metadata": {},
   "outputs": [],
   "source": [
    "myset=set()"
   ]
  },
  {
   "cell_type": "code",
   "execution_count": 4,
   "id": "88005b71",
   "metadata": {},
   "outputs": [
    {
     "data": {
      "text/plain": [
       "set"
      ]
     },
     "execution_count": 4,
     "metadata": {},
     "output_type": "execute_result"
    }
   ],
   "source": [
    "type(myset)"
   ]
  },
  {
   "cell_type": "code",
   "execution_count": 5,
   "id": "567bfcf5",
   "metadata": {},
   "outputs": [
    {
     "name": "stdout",
     "output_type": "stream",
     "text": [
      "<class 'set'>\n"
     ]
    }
   ],
   "source": [
    "print(type(myset))"
   ]
  },
  {
   "cell_type": "code",
   "execution_count": 6,
   "id": "bd2b9a85",
   "metadata": {},
   "outputs": [],
   "source": [
    "myset={}"
   ]
  },
  {
   "cell_type": "code",
   "execution_count": 7,
   "id": "2ff0138c",
   "metadata": {},
   "outputs": [
    {
     "name": "stdout",
     "output_type": "stream",
     "text": [
      "<class 'dict'>\n"
     ]
    }
   ],
   "source": [
    "print(type(myset))"
   ]
  },
  {
   "cell_type": "code",
   "execution_count": 8,
   "id": "339cda45",
   "metadata": {},
   "outputs": [],
   "source": [
    "myset=dict()"
   ]
  },
  {
   "cell_type": "code",
   "execution_count": 9,
   "id": "070fc0c9",
   "metadata": {},
   "outputs": [
    {
     "name": "stdout",
     "output_type": "stream",
     "text": [
      "<class 'dict'>\n"
     ]
    }
   ],
   "source": [
    "print(type(myset))"
   ]
  },
  {
   "cell_type": "code",
   "execution_count": 10,
   "id": "860a0168",
   "metadata": {},
   "outputs": [],
   "source": [
    "dic={}"
   ]
  },
  {
   "cell_type": "code",
   "execution_count": 11,
   "id": "810a585a",
   "metadata": {},
   "outputs": [
    {
     "data": {
      "text/plain": [
       "dict"
      ]
     },
     "execution_count": 11,
     "metadata": {},
     "output_type": "execute_result"
    }
   ],
   "source": [
    "type(dic)"
   ]
  },
  {
   "cell_type": "code",
   "execution_count": 12,
   "id": "d85290b4",
   "metadata": {},
   "outputs": [],
   "source": [
    "myset=set()"
   ]
  },
  {
   "cell_type": "code",
   "execution_count": 13,
   "id": "2a5146f0",
   "metadata": {},
   "outputs": [
    {
     "data": {
      "text/plain": [
       "set"
      ]
     },
     "execution_count": 13,
     "metadata": {},
     "output_type": "execute_result"
    }
   ],
   "source": [
    "type(myset)"
   ]
  },
  {
   "cell_type": "code",
   "execution_count": 14,
   "id": "b380077f",
   "metadata": {},
   "outputs": [],
   "source": [
    "s1={1,2,3,4,4,5,6,7,5}"
   ]
  },
  {
   "cell_type": "code",
   "execution_count": 15,
   "id": "89fb1cde",
   "metadata": {},
   "outputs": [
    {
     "data": {
      "text/plain": [
       "{1, 2, 3, 4, 5, 6, 7}"
      ]
     },
     "execution_count": 15,
     "metadata": {},
     "output_type": "execute_result"
    }
   ],
   "source": [
    "s1"
   ]
  },
  {
   "cell_type": "code",
   "execution_count": 16,
   "id": "54f25796",
   "metadata": {},
   "outputs": [
    {
     "data": {
      "text/plain": [
       "7"
      ]
     },
     "execution_count": 16,
     "metadata": {},
     "output_type": "execute_result"
    }
   ],
   "source": [
    "len(s1)"
   ]
  },
  {
   "cell_type": "code",
   "execution_count": 17,
   "id": "f40556c1",
   "metadata": {},
   "outputs": [
    {
     "data": {
      "text/plain": [
       "True"
      ]
     },
     "execution_count": 17,
     "metadata": {},
     "output_type": "execute_result"
    }
   ],
   "source": [
    "7 in s1"
   ]
  },
  {
   "cell_type": "code",
   "execution_count": 18,
   "id": "d1016aae",
   "metadata": {},
   "outputs": [
    {
     "data": {
      "text/plain": [
       "False"
      ]
     },
     "execution_count": 18,
     "metadata": {},
     "output_type": "execute_result"
    }
   ],
   "source": [
    "8 in s1"
   ]
  },
  {
   "cell_type": "code",
   "execution_count": 19,
   "id": "ec4839cb",
   "metadata": {},
   "outputs": [
    {
     "data": {
      "text/plain": [
       "7"
      ]
     },
     "execution_count": 19,
     "metadata": {},
     "output_type": "execute_result"
    }
   ],
   "source": [
    "7 or s1"
   ]
  },
  {
   "cell_type": "code",
   "execution_count": 20,
   "id": "4983bfa8",
   "metadata": {},
   "outputs": [
    {
     "data": {
      "text/plain": [
       "8"
      ]
     },
     "execution_count": 20,
     "metadata": {},
     "output_type": "execute_result"
    }
   ],
   "source": [
    "8 or s1"
   ]
  },
  {
   "cell_type": "code",
   "execution_count": 21,
   "id": "81ece5e5",
   "metadata": {},
   "outputs": [
    {
     "ename": "TypeError",
     "evalue": "'int' object is not iterable",
     "output_type": "error",
     "traceback": [
      "\u001b[1;31m---------------------------------------------------------------------------\u001b[0m",
      "\u001b[1;31mTypeError\u001b[0m                                 Traceback (most recent call last)",
      "Cell \u001b[1;32mIn[21], line 1\u001b[0m\n\u001b[1;32m----> 1\u001b[0m s1\u001b[38;5;241m.\u001b[39mupdate(\u001b[38;5;241m8\u001b[39m)\n",
      "\u001b[1;31mTypeError\u001b[0m: 'int' object is not iterable"
     ]
    }
   ],
   "source": [
    "s1.update(8)"
   ]
  },
  {
   "cell_type": "code",
   "execution_count": 22,
   "id": "6fe873bb",
   "metadata": {},
   "outputs": [],
   "source": [
    "s1.add(8)"
   ]
  },
  {
   "cell_type": "code",
   "execution_count": 23,
   "id": "cd324534",
   "metadata": {},
   "outputs": [
    {
     "data": {
      "text/plain": [
       "{1, 2, 3, 4, 5, 6, 7, 8}"
      ]
     },
     "execution_count": 23,
     "metadata": {},
     "output_type": "execute_result"
    }
   ],
   "source": [
    "s1"
   ]
  },
  {
   "cell_type": "code",
   "execution_count": 24,
   "id": "aa81c96f",
   "metadata": {},
   "outputs": [],
   "source": [
    "s1.update([9])"
   ]
  },
  {
   "cell_type": "code",
   "execution_count": 25,
   "id": "530bdbd1",
   "metadata": {},
   "outputs": [
    {
     "data": {
      "text/plain": [
       "{1, 2, 3, 4, 5, 6, 7, 8, 9}"
      ]
     },
     "execution_count": 25,
     "metadata": {},
     "output_type": "execute_result"
    }
   ],
   "source": [
    "s1"
   ]
  },
  {
   "cell_type": "code",
   "execution_count": 26,
   "id": "f2e219f0",
   "metadata": {},
   "outputs": [],
   "source": [
    "s1.update('ten')"
   ]
  },
  {
   "cell_type": "code",
   "execution_count": 27,
   "id": "5bc97f44",
   "metadata": {},
   "outputs": [
    {
     "data": {
      "text/plain": [
       "{1, 2, 3, 4, 5, 6, 7, 8, 9, 'e', 'n', 't'}"
      ]
     },
     "execution_count": 27,
     "metadata": {},
     "output_type": "execute_result"
    }
   ],
   "source": [
    "s1"
   ]
  },
  {
   "cell_type": "code",
   "execution_count": 28,
   "id": "127dc25f",
   "metadata": {},
   "outputs": [],
   "source": [
    "s1.update(\"one\")"
   ]
  },
  {
   "cell_type": "code",
   "execution_count": 29,
   "id": "e8de96fd",
   "metadata": {},
   "outputs": [
    {
     "data": {
      "text/plain": [
       "{1, 2, 3, 4, 5, 6, 7, 8, 9, 'e', 'n', 'o', 't'}"
      ]
     },
     "execution_count": 29,
     "metadata": {},
     "output_type": "execute_result"
    }
   ],
   "source": [
    "s1"
   ]
  },
  {
   "cell_type": "code",
   "execution_count": 30,
   "id": "a7963192",
   "metadata": {},
   "outputs": [],
   "source": [
    "s1.discard(8)"
   ]
  },
  {
   "cell_type": "code",
   "execution_count": 31,
   "id": "8a7d778e",
   "metadata": {},
   "outputs": [
    {
     "data": {
      "text/plain": [
       "{1, 2, 3, 4, 5, 6, 7, 9, 'e', 'n', 'o', 't'}"
      ]
     },
     "execution_count": 31,
     "metadata": {},
     "output_type": "execute_result"
    }
   ],
   "source": [
    "s1"
   ]
  },
  {
   "cell_type": "code",
   "execution_count": 32,
   "id": "0e0296fb",
   "metadata": {},
   "outputs": [
    {
     "ename": "NameError",
     "evalue": "name 'e' is not defined",
     "output_type": "error",
     "traceback": [
      "\u001b[1;31m---------------------------------------------------------------------------\u001b[0m",
      "\u001b[1;31mNameError\u001b[0m                                 Traceback (most recent call last)",
      "Cell \u001b[1;32mIn[32], line 1\u001b[0m\n\u001b[1;32m----> 1\u001b[0m s1\u001b[38;5;241m.\u001b[39mdiscard(e)\n",
      "\u001b[1;31mNameError\u001b[0m: name 'e' is not defined"
     ]
    }
   ],
   "source": [
    "s1.discard(e)"
   ]
  },
  {
   "cell_type": "code",
   "execution_count": 33,
   "id": "fdc3611f",
   "metadata": {},
   "outputs": [],
   "source": [
    "s1.discard('e')"
   ]
  },
  {
   "cell_type": "code",
   "execution_count": 34,
   "id": "7a8caa1e",
   "metadata": {},
   "outputs": [
    {
     "data": {
      "text/plain": [
       "{1, 2, 3, 4, 5, 6, 7, 9, 'n', 'o', 't'}"
      ]
     },
     "execution_count": 34,
     "metadata": {},
     "output_type": "execute_result"
    }
   ],
   "source": [
    "s1"
   ]
  },
  {
   "cell_type": "code",
   "execution_count": 35,
   "id": "e8c9dcdd",
   "metadata": {},
   "outputs": [],
   "source": [
    "s1.discard('on')"
   ]
  },
  {
   "cell_type": "code",
   "execution_count": 36,
   "id": "eceedb78",
   "metadata": {},
   "outputs": [
    {
     "data": {
      "text/plain": [
       "{1, 2, 3, 4, 5, 6, 7, 9, 'n', 'o', 't'}"
      ]
     },
     "execution_count": 36,
     "metadata": {},
     "output_type": "execute_result"
    }
   ],
   "source": [
    "s1"
   ]
  },
  {
   "cell_type": "code",
   "execution_count": 37,
   "id": "fde7031d",
   "metadata": {},
   "outputs": [],
   "source": [
    "s1.discard('fit')"
   ]
  },
  {
   "cell_type": "code",
   "execution_count": 38,
   "id": "fe28dc74",
   "metadata": {},
   "outputs": [
    {
     "data": {
      "text/plain": [
       "{1, 2, 3, 4, 5, 6, 7, 9, 'n', 'o', 't'}"
      ]
     },
     "execution_count": 38,
     "metadata": {},
     "output_type": "execute_result"
    }
   ],
   "source": [
    "s1"
   ]
  },
  {
   "cell_type": "code",
   "execution_count": 43,
   "id": "72fbd705",
   "metadata": {},
   "outputs": [],
   "source": [
    "s1.discard(\"o\")"
   ]
  },
  {
   "cell_type": "markdown",
   "id": "b076ce3f",
   "metadata": {},
   "source": [
    "s1"
   ]
  },
  {
   "cell_type": "code",
   "execution_count": 44,
   "id": "071ff24f",
   "metadata": {},
   "outputs": [
    {
     "data": {
      "text/plain": [
       "{1, 2, 3, 4, 5, 6, 7, 9, 'n', 't'}"
      ]
     },
     "execution_count": 44,
     "metadata": {},
     "output_type": "execute_result"
    }
   ],
   "source": [
    "s1"
   ]
  },
  {
   "cell_type": "code",
   "execution_count": 45,
   "id": "4c1c3ea2",
   "metadata": {},
   "outputs": [
    {
     "ename": "AttributeError",
     "evalue": "'set' object has no attribute 'append'",
     "output_type": "error",
     "traceback": [
      "\u001b[1;31m---------------------------------------------------------------------------\u001b[0m",
      "\u001b[1;31mAttributeError\u001b[0m                            Traceback (most recent call last)",
      "Cell \u001b[1;32mIn[45], line 1\u001b[0m\n\u001b[1;32m----> 1\u001b[0m s1\u001b[38;5;241m.\u001b[39mappend(\u001b[38;5;241m2\u001b[39m)\n",
      "\u001b[1;31mAttributeError\u001b[0m: 'set' object has no attribute 'append'"
     ]
    }
   ],
   "source": [
    "s1.append(2)"
   ]
  },
  {
   "cell_type": "code",
   "execution_count": 46,
   "id": "e86799c6",
   "metadata": {},
   "outputs": [
    {
     "ename": "AttributeError",
     "evalue": "'set' object has no attribute 'extend'",
     "output_type": "error",
     "traceback": [
      "\u001b[1;31m---------------------------------------------------------------------------\u001b[0m",
      "\u001b[1;31mAttributeError\u001b[0m                            Traceback (most recent call last)",
      "Cell \u001b[1;32mIn[46], line 1\u001b[0m\n\u001b[1;32m----> 1\u001b[0m s1\u001b[38;5;241m.\u001b[39mextend(\u001b[38;5;241m5\u001b[39m)\n",
      "\u001b[1;31mAttributeError\u001b[0m: 'set' object has no attribute 'extend'"
     ]
    }
   ],
   "source": [
    "s1.extend(5)"
   ]
  },
  {
   "cell_type": "code",
   "execution_count": 47,
   "id": "9a0caaf8",
   "metadata": {},
   "outputs": [
    {
     "ename": "TypeError",
     "evalue": "set.clear() takes no arguments (1 given)",
     "output_type": "error",
     "traceback": [
      "\u001b[1;31m---------------------------------------------------------------------------\u001b[0m",
      "\u001b[1;31mTypeError\u001b[0m                                 Traceback (most recent call last)",
      "Cell \u001b[1;32mIn[47], line 1\u001b[0m\n\u001b[1;32m----> 1\u001b[0m s1\u001b[38;5;241m.\u001b[39mclear(\u001b[38;5;241m2\u001b[39m)\n",
      "\u001b[1;31mTypeError\u001b[0m: set.clear() takes no arguments (1 given)"
     ]
    }
   ],
   "source": [
    "s1.clear(2)"
   ]
  },
  {
   "cell_type": "code",
   "execution_count": 48,
   "id": "178fcbbb",
   "metadata": {},
   "outputs": [],
   "source": [
    "s1.clear()"
   ]
  },
  {
   "cell_type": "code",
   "execution_count": 49,
   "id": "f1981bae",
   "metadata": {},
   "outputs": [
    {
     "data": {
      "text/plain": [
       "set()"
      ]
     },
     "execution_count": 49,
     "metadata": {},
     "output_type": "execute_result"
    }
   ],
   "source": [
    "s1"
   ]
  },
  {
   "cell_type": "code",
   "execution_count": 51,
   "id": "c64f4f84",
   "metadata": {},
   "outputs": [
    {
     "data": {
      "text/plain": [
       "set"
      ]
     },
     "execution_count": 51,
     "metadata": {},
     "output_type": "execute_result"
    }
   ],
   "source": [
    "s1={1,2,3}\n",
    "s1.clear()\n",
    "type(s1)"
   ]
  },
  {
   "cell_type": "code",
   "execution_count": 52,
   "id": "339161aa",
   "metadata": {},
   "outputs": [],
   "source": [
    "del s1"
   ]
  },
  {
   "cell_type": "code",
   "execution_count": 53,
   "id": "d11b073d",
   "metadata": {},
   "outputs": [
    {
     "ename": "NameError",
     "evalue": "name 's1' is not defined",
     "output_type": "error",
     "traceback": [
      "\u001b[1;31m---------------------------------------------------------------------------\u001b[0m",
      "\u001b[1;31mNameError\u001b[0m                                 Traceback (most recent call last)",
      "Cell \u001b[1;32mIn[53], line 1\u001b[0m\n\u001b[1;32m----> 1\u001b[0m s1\n",
      "\u001b[1;31mNameError\u001b[0m: name 's1' is not defined"
     ]
    }
   ],
   "source": [
    "s1"
   ]
  },
  {
   "cell_type": "code",
   "execution_count": 54,
   "id": "90ca4423",
   "metadata": {},
   "outputs": [],
   "source": [
    "s1={1,5,7,8,15,2,3,4}"
   ]
  },
  {
   "cell_type": "code",
   "execution_count": 55,
   "id": "a6a471f2",
   "metadata": {},
   "outputs": [
    {
     "data": {
      "text/plain": [
       "{1, 2, 3, 4, 5, 7, 8, 15}"
      ]
     },
     "execution_count": 55,
     "metadata": {},
     "output_type": "execute_result"
    }
   ],
   "source": [
    "s1"
   ]
  },
  {
   "cell_type": "code",
   "execution_count": 56,
   "id": "beb09a27",
   "metadata": {},
   "outputs": [],
   "source": [
    "s1.add(2.5)"
   ]
  },
  {
   "cell_type": "code",
   "execution_count": 57,
   "id": "bab8f330",
   "metadata": {},
   "outputs": [
    {
     "data": {
      "text/plain": [
       "{1, 2, 2.5, 3, 4, 5, 7, 8, 15}"
      ]
     },
     "execution_count": 57,
     "metadata": {},
     "output_type": "execute_result"
    }
   ],
   "source": [
    "s1"
   ]
  },
  {
   "cell_type": "code",
   "execution_count": 59,
   "id": "fd56936d",
   "metadata": {},
   "outputs": [],
   "source": [
    "a={'a','b','x','y','u','c','d','e'}"
   ]
  },
  {
   "cell_type": "code",
   "execution_count": 60,
   "id": "62a28e31",
   "metadata": {},
   "outputs": [
    {
     "data": {
      "text/plain": [
       "{'a', 'b', 'c', 'd', 'e', 'u', 'x', 'y'}"
      ]
     },
     "execution_count": 60,
     "metadata": {},
     "output_type": "execute_result"
    }
   ],
   "source": [
    "a"
   ]
  },
  {
   "cell_type": "code",
   "execution_count": 61,
   "id": "630b6d5a",
   "metadata": {},
   "outputs": [],
   "source": [
    "A={1,2,3,4,5}\n",
    "B={4,5,6,7,8}\n",
    "C={9,10}"
   ]
  },
  {
   "cell_type": "code",
   "execution_count": 62,
   "id": "fe05353d",
   "metadata": {},
   "outputs": [
    {
     "data": {
      "text/plain": [
       "{1, 2, 3, 4, 5, 6, 7, 8}"
      ]
     },
     "execution_count": 62,
     "metadata": {},
     "output_type": "execute_result"
    }
   ],
   "source": [
    "A.union(B)"
   ]
  },
  {
   "cell_type": "code",
   "execution_count": 63,
   "id": "9e8854eb",
   "metadata": {},
   "outputs": [
    {
     "data": {
      "text/plain": [
       "{1, 2, 3, 4, 5, 6, 7, 8, 9, 10}"
      ]
     },
     "execution_count": 63,
     "metadata": {},
     "output_type": "execute_result"
    }
   ],
   "source": [
    "A.union(B,C)"
   ]
  },
  {
   "cell_type": "code",
   "execution_count": 64,
   "id": "f8309a13",
   "metadata": {},
   "outputs": [
    {
     "data": {
      "text/plain": [
       "{1, 2, 3, 4, 5}"
      ]
     },
     "execution_count": 64,
     "metadata": {},
     "output_type": "execute_result"
    }
   ],
   "source": [
    "A"
   ]
  },
  {
   "cell_type": "code",
   "execution_count": 65,
   "id": "b6080b1c",
   "metadata": {},
   "outputs": [
    {
     "data": {
      "text/plain": [
       "{4, 5, 6, 7, 8}"
      ]
     },
     "execution_count": 65,
     "metadata": {},
     "output_type": "execute_result"
    }
   ],
   "source": [
    "B"
   ]
  },
  {
   "cell_type": "code",
   "execution_count": 66,
   "id": "86f74dd9",
   "metadata": {},
   "outputs": [
    {
     "ename": "NameError",
     "evalue": "name 'c' is not defined",
     "output_type": "error",
     "traceback": [
      "\u001b[1;31m---------------------------------------------------------------------------\u001b[0m",
      "\u001b[1;31mNameError\u001b[0m                                 Traceback (most recent call last)",
      "Cell \u001b[1;32mIn[66], line 1\u001b[0m\n\u001b[1;32m----> 1\u001b[0m c\n",
      "\u001b[1;31mNameError\u001b[0m: name 'c' is not defined"
     ]
    }
   ],
   "source": [
    "c"
   ]
  },
  {
   "cell_type": "code",
   "execution_count": 68,
   "id": "398ce2a5",
   "metadata": {},
   "outputs": [],
   "source": [
    "C={8,9,10}"
   ]
  },
  {
   "cell_type": "code",
   "execution_count": 69,
   "id": "f1c26abf",
   "metadata": {},
   "outputs": [
    {
     "data": {
      "text/plain": [
       "{8, 9, 10}"
      ]
     },
     "execution_count": 69,
     "metadata": {},
     "output_type": "execute_result"
    }
   ],
   "source": [
    "C"
   ]
  },
  {
   "cell_type": "code",
   "execution_count": 70,
   "id": "885e0180",
   "metadata": {},
   "outputs": [
    {
     "data": {
      "text/plain": [
       "{4, 5}"
      ]
     },
     "execution_count": 70,
     "metadata": {},
     "output_type": "execute_result"
    }
   ],
   "source": [
    "A.intersection(B)"
   ]
  },
  {
   "cell_type": "code",
   "execution_count": 71,
   "id": "adc1d5f4",
   "metadata": {},
   "outputs": [
    {
     "data": {
      "text/plain": [
       "{1, 2, 3}"
      ]
     },
     "execution_count": 71,
     "metadata": {},
     "output_type": "execute_result"
    }
   ],
   "source": [
    "A.difference(B)"
   ]
  },
  {
   "cell_type": "code",
   "execution_count": 72,
   "id": "8744d237",
   "metadata": {},
   "outputs": [
    {
     "data": {
      "text/plain": [
       "dict"
      ]
     },
     "execution_count": 72,
     "metadata": {},
     "output_type": "execute_result"
    }
   ],
   "source": [
    "dict"
   ]
  },
  {
   "cell_type": "code",
   "execution_count": 73,
   "id": "e4a9147d",
   "metadata": {},
   "outputs": [
    {
     "ename": "SyntaxError",
     "evalue": "invalid syntax (1776262852.py, line 1)",
     "output_type": "error",
     "traceback": [
      "\u001b[1;36m  Cell \u001b[1;32mIn[73], line 1\u001b[1;36m\u001b[0m\n\u001b[1;33m    dict a\u001b[0m\n\u001b[1;37m         ^\u001b[0m\n\u001b[1;31mSyntaxError\u001b[0m\u001b[1;31m:\u001b[0m invalid syntax\n"
     ]
    }
   ],
   "source": [
    "dict a"
   ]
  },
  {
   "cell_type": "code",
   "execution_count": 74,
   "id": "5190761d",
   "metadata": {},
   "outputs": [
    {
     "ename": "SyntaxError",
     "evalue": "invalid syntax (294689796.py, line 1)",
     "output_type": "error",
     "traceback": [
      "\u001b[1;36m  Cell \u001b[1;32mIn[74], line 1\u001b[1;36m\u001b[0m\n\u001b[1;33m    dict {a}\u001b[0m\n\u001b[1;37m         ^\u001b[0m\n\u001b[1;31mSyntaxError\u001b[0m\u001b[1;31m:\u001b[0m invalid syntax\n"
     ]
    }
   ],
   "source": [
    "dict {a}"
   ]
  },
  {
   "cell_type": "code",
   "execution_count": 75,
   "id": "a7ffad3d",
   "metadata": {},
   "outputs": [
    {
     "ename": "TypeError",
     "evalue": "unhashable type: 'set'",
     "output_type": "error",
     "traceback": [
      "\u001b[1;31m---------------------------------------------------------------------------\u001b[0m",
      "\u001b[1;31mTypeError\u001b[0m                                 Traceback (most recent call last)",
      "Cell \u001b[1;32mIn[75], line 1\u001b[0m\n\u001b[1;32m----> 1\u001b[0m \u001b[38;5;28mdict\u001b[39m\u001b[38;5;241m=\u001b[39m{a}\n",
      "\u001b[1;31mTypeError\u001b[0m: unhashable type: 'set'"
     ]
    }
   ],
   "source": [
    "dict={a}"
   ]
  },
  {
   "cell_type": "code",
   "execution_count": 76,
   "id": "f2ef5277",
   "metadata": {},
   "outputs": [],
   "source": [
    "mydict={1:'one',2:'two',3:'three'}"
   ]
  },
  {
   "cell_type": "code",
   "execution_count": 77,
   "id": "314abbea",
   "metadata": {},
   "outputs": [
    {
     "data": {
      "text/plain": [
       "{1: 'one', 2: 'two', 3: 'three'}"
      ]
     },
     "execution_count": 77,
     "metadata": {},
     "output_type": "execute_result"
    }
   ],
   "source": [
    "mydict"
   ]
  },
  {
   "cell_type": "code",
   "execution_count": 80,
   "id": "2a337094",
   "metadata": {},
   "outputs": [],
   "source": [
    "mydict1=dict({1:'one',2:'two',3:'three'})"
   ]
  },
  {
   "cell_type": "markdown",
   "id": "c4a871a8",
   "metadata": {},
   "source": [
    "mydict1"
   ]
  },
  {
   "cell_type": "code",
   "execution_count": 81,
   "id": "1b8eb554",
   "metadata": {},
   "outputs": [
    {
     "data": {
      "text/plain": [
       "{1: 'one', 2: 'two', 3: 'three'}"
      ]
     },
     "execution_count": 81,
     "metadata": {},
     "output_type": "execute_result"
    }
   ],
   "source": [
    "mydict1"
   ]
  },
  {
   "cell_type": "code",
   "execution_count": 82,
   "id": "3a7310c4",
   "metadata": {},
   "outputs": [
    {
     "data": {
      "text/plain": [
       "dict_keys([1, 2, 3])"
      ]
     },
     "execution_count": 82,
     "metadata": {},
     "output_type": "execute_result"
    }
   ],
   "source": [
    "mydict.keys()"
   ]
  },
  {
   "cell_type": "code",
   "execution_count": 83,
   "id": "35fa9fa9",
   "metadata": {},
   "outputs": [
    {
     "data": {
      "text/plain": [
       "dict_values(['one', 'two', 'three'])"
      ]
     },
     "execution_count": 83,
     "metadata": {},
     "output_type": "execute_result"
    }
   ],
   "source": [
    "mydict.values()"
   ]
  },
  {
   "cell_type": "code",
   "execution_count": 84,
   "id": "18afed6f",
   "metadata": {},
   "outputs": [
    {
     "data": {
      "text/plain": [
       "dict_items([(1, 'one'), (2, 'two'), (3, 'three')])"
      ]
     },
     "execution_count": 84,
     "metadata": {},
     "output_type": "execute_result"
    }
   ],
   "source": [
    "mydict.items()"
   ]
  },
  {
   "cell_type": "code",
   "execution_count": 85,
   "id": "bd998ef8",
   "metadata": {},
   "outputs": [
    {
     "ename": "TypeError",
     "evalue": "dict.keys() takes no arguments (1 given)",
     "output_type": "error",
     "traceback": [
      "\u001b[1;31m---------------------------------------------------------------------------\u001b[0m",
      "\u001b[1;31mTypeError\u001b[0m                                 Traceback (most recent call last)",
      "Cell \u001b[1;32mIn[85], line 1\u001b[0m\n\u001b[1;32m----> 1\u001b[0m mydict\u001b[38;5;241m.\u001b[39mkeys(\u001b[38;5;241m2\u001b[39m)\n",
      "\u001b[1;31mTypeError\u001b[0m: dict.keys() takes no arguments (1 given)"
     ]
    }
   ],
   "source": [
    "mydict.keys(2)"
   ]
  },
  {
   "cell_type": "code",
   "execution_count": 86,
   "id": "e6c8e865",
   "metadata": {},
   "outputs": [],
   "source": [
    "mydict2={1:'one',2:'two',3:'three',4:['data','john']}"
   ]
  },
  {
   "cell_type": "code",
   "execution_count": 87,
   "id": "8889c1df",
   "metadata": {},
   "outputs": [
    {
     "data": {
      "text/plain": [
       "{1: 'one', 2: 'two', 3: 'three', 4: ['data', 'john']}"
      ]
     },
     "execution_count": 87,
     "metadata": {},
     "output_type": "execute_result"
    }
   ],
   "source": [
    "mydict2"
   ]
  },
  {
   "cell_type": "code",
   "execution_count": 88,
   "id": "ce1d9b7b",
   "metadata": {},
   "outputs": [],
   "source": [
    "mydict2={1:'one',2:'two',3:'three','joy':['data','john']}"
   ]
  },
  {
   "cell_type": "code",
   "execution_count": 89,
   "id": "3a3aa9d3",
   "metadata": {},
   "outputs": [
    {
     "data": {
      "text/plain": [
       "{1: 'one', 2: 'two', 3: 'three', 'joy': ['data', 'john']}"
      ]
     },
     "execution_count": 89,
     "metadata": {},
     "output_type": "execute_result"
    }
   ],
   "source": [
    "mydict2"
   ]
  },
  {
   "cell_type": "code",
   "execution_count": 90,
   "id": "964ffc45",
   "metadata": {},
   "outputs": [
    {
     "ename": "TypeError",
     "evalue": "list indices must be integers or slices, not str",
     "output_type": "error",
     "traceback": [
      "\u001b[1;31m---------------------------------------------------------------------------\u001b[0m",
      "\u001b[1;31mTypeError\u001b[0m                                 Traceback (most recent call last)",
      "Cell \u001b[1;32mIn[90], line 1\u001b[0m\n\u001b[1;32m----> 1\u001b[0m mydict2[\u001b[38;5;124m'\u001b[39m\u001b[38;5;124mjoy\u001b[39m\u001b[38;5;124m'\u001b[39m][\u001b[38;5;124m'\u001b[39m\u001b[38;5;124m1\u001b[39m\u001b[38;5;124m'\u001b[39m]\n",
      "\u001b[1;31mTypeError\u001b[0m: list indices must be integers or slices, not str"
     ]
    }
   ],
   "source": [
    "mydict2['joy']['1']"
   ]
  },
  {
   "cell_type": "code",
   "execution_count": 91,
   "id": "552a2574",
   "metadata": {},
   "outputs": [
    {
     "data": {
      "text/plain": [
       "'john'"
      ]
     },
     "execution_count": 91,
     "metadata": {},
     "output_type": "execute_result"
    }
   ],
   "source": [
    "mydict2['joy'][1]"
   ]
  },
  {
   "cell_type": "code",
   "execution_count": 92,
   "id": "347f6483",
   "metadata": {},
   "outputs": [
    {
     "data": {
      "text/plain": [
       "False"
      ]
     },
     "execution_count": 92,
     "metadata": {},
     "output_type": "execute_result"
    }
   ],
   "source": [
    "'two' in mydict2"
   ]
  },
  {
   "cell_type": "code",
   "execution_count": 93,
   "id": "dfc0c0d5",
   "metadata": {},
   "outputs": [
    {
     "data": {
      "text/plain": [
       "True"
      ]
     },
     "execution_count": 93,
     "metadata": {},
     "output_type": "execute_result"
    }
   ],
   "source": [
    "2 in mydict2"
   ]
  },
  {
   "cell_type": "code",
   "execution_count": 94,
   "id": "c91bb98e",
   "metadata": {},
   "outputs": [],
   "source": [
    "mydict={'Name':'Data','ID':1234,'DOB':1991,'Address':'Pune'}"
   ]
  },
  {
   "cell_type": "code",
   "execution_count": 95,
   "id": "f1a047da",
   "metadata": {},
   "outputs": [],
   "source": [
    "mydict.update({'key':'Value'})"
   ]
  },
  {
   "cell_type": "code",
   "execution_count": 96,
   "id": "e322e371",
   "metadata": {},
   "outputs": [
    {
     "data": {
      "text/plain": [
       "{'Name': 'Data', 'ID': 1234, 'DOB': 1991, 'Address': 'Pune', 'key': 'Value'}"
      ]
     },
     "execution_count": 96,
     "metadata": {},
     "output_type": "execute_result"
    }
   ],
   "source": [
    "mydict"
   ]
  },
  {
   "cell_type": "code",
   "execution_count": 97,
   "id": "aa525237",
   "metadata": {},
   "outputs": [
    {
     "ename": "TypeError",
     "evalue": "pop expected at least 1 argument, got 0",
     "output_type": "error",
     "traceback": [
      "\u001b[1;31m---------------------------------------------------------------------------\u001b[0m",
      "\u001b[1;31mTypeError\u001b[0m                                 Traceback (most recent call last)",
      "Cell \u001b[1;32mIn[97], line 1\u001b[0m\n\u001b[1;32m----> 1\u001b[0m mydict\u001b[38;5;241m.\u001b[39mpop()\n",
      "\u001b[1;31mTypeError\u001b[0m: pop expected at least 1 argument, got 0"
     ]
    }
   ],
   "source": [
    "mydict.pop()"
   ]
  },
  {
   "cell_type": "code",
   "execution_count": 98,
   "id": "073dfd04",
   "metadata": {},
   "outputs": [
    {
     "data": {
      "text/plain": [
       "('key', 'Value')"
      ]
     },
     "execution_count": 98,
     "metadata": {},
     "output_type": "execute_result"
    }
   ],
   "source": [
    "mydict.popitem()"
   ]
  },
  {
   "cell_type": "code",
   "execution_count": 102,
   "id": "2fd48b2b",
   "metadata": {},
   "outputs": [],
   "source": [
    "mydict.update({'key':'Value'})"
   ]
  },
  {
   "cell_type": "code",
   "execution_count": null,
   "id": "2ccc99f1",
   "metadata": {},
   "outputs": [],
   "source": []
  }
 ],
 "metadata": {
  "kernelspec": {
   "display_name": "Python 3 (ipykernel)",
   "language": "python",
   "name": "python3"
  },
  "language_info": {
   "codemirror_mode": {
    "name": "ipython",
    "version": 3
   },
   "file_extension": ".py",
   "mimetype": "text/x-python",
   "name": "python",
   "nbconvert_exporter": "python",
   "pygments_lexer": "ipython3",
   "version": "3.11.3"
  }
 },
 "nbformat": 4,
 "nbformat_minor": 5
}
