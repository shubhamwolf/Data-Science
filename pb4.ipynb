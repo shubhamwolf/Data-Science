{
 "cells": [
  {
   "cell_type": "code",
   "execution_count": 1,
   "id": "5bf0efa7",
   "metadata": {},
   "outputs": [],
   "source": [
    "str='hello'"
   ]
  },
  {
   "cell_type": "code",
   "execution_count": 2,
   "id": "014b353d",
   "metadata": {},
   "outputs": [],
   "source": [
    "str2='world'"
   ]
  },
  {
   "cell_type": "code",
   "execution_count": 3,
   "id": "6b297380",
   "metadata": {},
   "outputs": [
    {
     "name": "stdout",
     "output_type": "stream",
     "text": [
      "hello\n"
     ]
    }
   ],
   "source": [
    "print(str)"
   ]
  },
  {
   "cell_type": "code",
   "execution_count": 4,
   "id": "0e36c7d1",
   "metadata": {},
   "outputs": [
    {
     "data": {
      "text/plain": [
       "str"
      ]
     },
     "execution_count": 4,
     "metadata": {},
     "output_type": "execute_result"
    }
   ],
   "source": [
    "type(str2)"
   ]
  },
  {
   "cell_type": "code",
   "execution_count": 5,
   "id": "29d0d57f",
   "metadata": {},
   "outputs": [
    {
     "data": {
      "text/plain": [
       "5"
      ]
     },
     "execution_count": 5,
     "metadata": {},
     "output_type": "execute_result"
    }
   ],
   "source": [
    "len (str)"
   ]
  },
  {
   "cell_type": "code",
   "execution_count": 6,
   "id": "c73f6c0a",
   "metadata": {},
   "outputs": [
    {
     "data": {
      "text/plain": [
       "'l'"
      ]
     },
     "execution_count": 6,
     "metadata": {},
     "output_type": "execute_result"
    }
   ],
   "source": [
    "str[3]"
   ]
  },
  {
   "cell_type": "code",
   "execution_count": 7,
   "id": "d53aeed4",
   "metadata": {},
   "outputs": [
    {
     "data": {
      "text/plain": [
       "'l'"
      ]
     },
     "execution_count": 7,
     "metadata": {},
     "output_type": "execute_result"
    }
   ],
   "source": [
    "str2[len(str)-2]"
   ]
  },
  {
   "cell_type": "code",
   "execution_count": 8,
   "id": "9e3441e5",
   "metadata": {},
   "outputs": [
    {
     "data": {
      "text/plain": [
       "'o'"
      ]
     },
     "execution_count": 8,
     "metadata": {},
     "output_type": "execute_result"
    }
   ],
   "source": [
    "str[-1]"
   ]
  },
  {
   "cell_type": "code",
   "execution_count": 9,
   "id": "e15f29db",
   "metadata": {},
   "outputs": [
    {
     "ename": "IndexError",
     "evalue": "string index out of range",
     "output_type": "error",
     "traceback": [
      "\u001b[1;31m---------------------------------------------------------------------------\u001b[0m",
      "\u001b[1;31mIndexError\u001b[0m                                Traceback (most recent call last)",
      "Cell \u001b[1;32mIn[9], line 1\u001b[0m\n\u001b[1;32m----> 1\u001b[0m str2[\u001b[38;5;241m7\u001b[39m]\n",
      "\u001b[1;31mIndexError\u001b[0m: string index out of range"
     ]
    }
   ],
   "source": [
    "str2[7]"
   ]
  },
  {
   "cell_type": "code",
   "execution_count": 10,
   "id": "ad92ac76",
   "metadata": {},
   "outputs": [],
   "source": [
    "str1='Hello Python'"
   ]
  },
  {
   "cell_type": "code",
   "execution_count": 11,
   "id": "59c4087d",
   "metadata": {},
   "outputs": [
    {
     "data": {
      "text/plain": [
       "int"
      ]
     },
     "execution_count": 11,
     "metadata": {},
     "output_type": "execute_result"
    }
   ],
   "source": [
    "val=123\n",
    "type(val)"
   ]
  },
  {
   "cell_type": "code",
   "execution_count": 12,
   "id": "7138b512",
   "metadata": {},
   "outputs": [],
   "source": [
    "l1=[1,2,3,4,5,6]"
   ]
  },
  {
   "cell_type": "code",
   "execution_count": 13,
   "id": "8aff1eef",
   "metadata": {},
   "outputs": [
    {
     "data": {
      "text/plain": [
       "[1, 2, 3, 4, 5, 6]"
      ]
     },
     "execution_count": 13,
     "metadata": {},
     "output_type": "execute_result"
    }
   ],
   "source": [
    "l1"
   ]
  },
  {
   "cell_type": "code",
   "execution_count": 14,
   "id": "81658711",
   "metadata": {},
   "outputs": [
    {
     "data": {
      "text/plain": [
       "[1, 2, 3, 4, 5, 6]"
      ]
     },
     "execution_count": 14,
     "metadata": {},
     "output_type": "execute_result"
    }
   ],
   "source": [
    "l1[:]"
   ]
  },
  {
   "cell_type": "code",
   "execution_count": 15,
   "id": "ed962784",
   "metadata": {},
   "outputs": [
    {
     "data": {
      "text/plain": [
       "[6, 5, 4, 3, 2, 1]"
      ]
     },
     "execution_count": 15,
     "metadata": {},
     "output_type": "execute_result"
    }
   ],
   "source": [
    "l1[::-1]"
   ]
  },
  {
   "cell_type": "code",
   "execution_count": 16,
   "id": "71fffaa0",
   "metadata": {},
   "outputs": [
    {
     "data": {
      "text/plain": [
       "[1, 2, 3, 4, 5, 6]"
      ]
     },
     "execution_count": 16,
     "metadata": {},
     "output_type": "execute_result"
    }
   ],
   "source": [
    "l1[::]"
   ]
  },
  {
   "cell_type": "code",
   "execution_count": 20,
   "id": "1b2ad950",
   "metadata": {},
   "outputs": [
    {
     "ename": "TypeError",
     "evalue": "list indices must be integers or slices, not range",
     "output_type": "error",
     "traceback": [
      "\u001b[1;31m---------------------------------------------------------------------------\u001b[0m",
      "\u001b[1;31mTypeError\u001b[0m                                 Traceback (most recent call last)",
      "Cell \u001b[1;32mIn[20], line 1\u001b[0m\n\u001b[1;32m----> 1\u001b[0m l1[\u001b[38;5;28mrange\u001b[39m(\u001b[38;5;241m0\u001b[39m,\u001b[38;5;241m1\u001b[39m)]\n",
      "\u001b[1;31mTypeError\u001b[0m: list indices must be integers or slices, not range"
     ]
    }
   ],
   "source": [
    "l1[range(0,1)]"
   ]
  },
  {
   "cell_type": "code",
   "execution_count": 21,
   "id": "8bf64228",
   "metadata": {},
   "outputs": [],
   "source": [
    "str2='data is the new world'"
   ]
  },
  {
   "cell_type": "code",
   "execution_count": 22,
   "id": "7541b2f0",
   "metadata": {},
   "outputs": [
    {
     "data": {
      "text/plain": [
       "'data is the new world'"
      ]
     },
     "execution_count": 22,
     "metadata": {},
     "output_type": "execute_result"
    }
   ],
   "source": [
    "str2[::]"
   ]
  },
  {
   "cell_type": "code",
   "execution_count": 23,
   "id": "d6edd767",
   "metadata": {},
   "outputs": [
    {
     "data": {
      "text/plain": [
       "'dlrow wen eht si atad'"
      ]
     },
     "execution_count": 23,
     "metadata": {},
     "output_type": "execute_result"
    }
   ],
   "source": [
    "str2[::-1]"
   ]
  },
  {
   "cell_type": "code",
   "execution_count": 24,
   "id": "22605b60",
   "metadata": {},
   "outputs": [
    {
     "data": {
      "text/plain": [
       "' new '"
      ]
     },
     "execution_count": 24,
     "metadata": {},
     "output_type": "execute_result"
    }
   ],
   "source": [
    "str2[-10:-5:]"
   ]
  },
  {
   "cell_type": "code",
   "execution_count": 36,
   "id": "2d742db4",
   "metadata": {},
   "outputs": [],
   "source": [
    "val=-123"
   ]
  },
  {
   "cell_type": "code",
   "execution_count": 33,
   "id": "3723b59e",
   "metadata": {},
   "outputs": [],
   "source": [
    "no=-543"
   ]
  },
  {
   "cell_type": "code",
   "execution_count": 34,
   "id": "dd0d70f8",
   "metadata": {},
   "outputs": [
    {
     "ename": "TypeError",
     "evalue": "'str' object is not callable",
     "output_type": "error",
     "traceback": [
      "\u001b[1;31m---------------------------------------------------------------------------\u001b[0m",
      "\u001b[1;31mTypeError\u001b[0m                                 Traceback (most recent call last)",
      "Cell \u001b[1;32mIn[34], line 1\u001b[0m\n\u001b[1;32m----> 1\u001b[0m b\u001b[38;5;241m=\u001b[39m\u001b[38;5;28mstr\u001b[39m(no)\n",
      "\u001b[1;31mTypeError\u001b[0m: 'str' object is not callable"
     ]
    }
   ],
   "source": [
    "b=str(no)"
   ]
  },
  {
   "cell_type": "code",
   "execution_count": 35,
   "id": "329fa828",
   "metadata": {},
   "outputs": [],
   "source": [
    "del str"
   ]
  },
  {
   "cell_type": "code",
   "execution_count": 37,
   "id": "f1ec9fb5",
   "metadata": {},
   "outputs": [],
   "source": [
    "a=str(val)"
   ]
  },
  {
   "cell_type": "code",
   "execution_count": 38,
   "id": "a1ea8e61",
   "metadata": {},
   "outputs": [
    {
     "data": {
      "text/plain": [
       "'-123'"
      ]
     },
     "execution_count": 38,
     "metadata": {},
     "output_type": "execute_result"
    }
   ],
   "source": [
    "a"
   ]
  },
  {
   "cell_type": "code",
   "execution_count": 39,
   "id": "06be8a02",
   "metadata": {},
   "outputs": [
    {
     "data": {
      "text/plain": [
       "False"
      ]
     },
     "execution_count": 39,
     "metadata": {},
     "output_type": "execute_result"
    }
   ],
   "source": [
    "'hello' in str1"
   ]
  },
  {
   "cell_type": "code",
   "execution_count": 40,
   "id": "436ddce1",
   "metadata": {},
   "outputs": [
    {
     "data": {
      "text/plain": [
       "'Hello Python'"
      ]
     },
     "execution_count": 40,
     "metadata": {},
     "output_type": "execute_result"
    }
   ],
   "source": [
    "str1"
   ]
  },
  {
   "cell_type": "code",
   "execution_count": 41,
   "id": "3c63cfa3",
   "metadata": {},
   "outputs": [
    {
     "data": {
      "text/plain": [
       "True"
      ]
     },
     "execution_count": 41,
     "metadata": {},
     "output_type": "execute_result"
    }
   ],
   "source": [
    "'Hello' in str1"
   ]
  },
  {
   "cell_type": "code",
   "execution_count": 42,
   "id": "85d3ce48",
   "metadata": {},
   "outputs": [
    {
     "data": {
      "text/plain": [
       "True"
      ]
     },
     "execution_count": 42,
     "metadata": {},
     "output_type": "execute_result"
    }
   ],
   "source": [
    "''in str1"
   ]
  },
  {
   "cell_type": "code",
   "execution_count": 43,
   "id": "7e40d499",
   "metadata": {},
   "outputs": [
    {
     "data": {
      "text/plain": [
       "False"
      ]
     },
     "execution_count": 43,
     "metadata": {},
     "output_type": "execute_result"
    }
   ],
   "source": [
    "'  ' in str1"
   ]
  },
  {
   "cell_type": "code",
   "execution_count": 44,
   "id": "e5b666ff",
   "metadata": {},
   "outputs": [
    {
     "data": {
      "text/plain": [
       "'data is the new world'"
      ]
     },
     "execution_count": 44,
     "metadata": {},
     "output_type": "execute_result"
    }
   ],
   "source": [
    "str2"
   ]
  },
  {
   "cell_type": "code",
   "execution_count": 45,
   "id": "34f6316a",
   "metadata": {},
   "outputs": [
    {
     "data": {
      "text/plain": [
       "False"
      ]
     },
     "execution_count": 45,
     "metadata": {},
     "output_type": "execute_result"
    }
   ],
   "source": [
    "'new' not in str2"
   ]
  },
  {
   "cell_type": "code",
   "execution_count": 46,
   "id": "fe770ff4",
   "metadata": {},
   "outputs": [
    {
     "data": {
      "text/plain": [
       "True"
      ]
     },
     "execution_count": 46,
     "metadata": {},
     "output_type": "execute_result"
    }
   ],
   "source": [
    "'Hello' not in str2"
   ]
  },
  {
   "cell_type": "code",
   "execution_count": 47,
   "id": "9a134622",
   "metadata": {},
   "outputs": [],
   "source": [
    "str4='......Hello*****'"
   ]
  },
  {
   "cell_type": "code",
   "execution_count": 48,
   "id": "20784bf3",
   "metadata": {},
   "outputs": [
    {
     "data": {
      "text/plain": [
       "'......Hello*****'"
      ]
     },
     "execution_count": 48,
     "metadata": {},
     "output_type": "execute_result"
    }
   ],
   "source": [
    "str4.strip()"
   ]
  },
  {
   "cell_type": "code",
   "execution_count": 49,
   "id": "99bc760a",
   "metadata": {},
   "outputs": [],
   "source": [
    "str4='..    ...   .Hello   **  *  * *     '"
   ]
  },
  {
   "cell_type": "code",
   "execution_count": 50,
   "id": "c8c5e0cb",
   "metadata": {},
   "outputs": [
    {
     "data": {
      "text/plain": [
       "'..    ...   .Hello   **  *  * *'"
      ]
     },
     "execution_count": 50,
     "metadata": {},
     "output_type": "execute_result"
    }
   ],
   "source": [
    "str4.strip()"
   ]
  },
  {
   "cell_type": "code",
   "execution_count": 51,
   "id": "3ebbc027",
   "metadata": {},
   "outputs": [
    {
     "data": {
      "text/plain": [
       "'    ...   .Hello   **  *  * *     '"
      ]
     },
     "execution_count": 51,
     "metadata": {},
     "output_type": "execute_result"
    }
   ],
   "source": [
    "str4.strip('.')"
   ]
  },
  {
   "cell_type": "code",
   "execution_count": 52,
   "id": "ae95786f",
   "metadata": {},
   "outputs": [
    {
     "data": {
      "text/plain": [
       "('..    ...   .', 'Hello', '   **  *  * *     ')"
      ]
     },
     "execution_count": 52,
     "metadata": {},
     "output_type": "execute_result"
    }
   ],
   "source": [
    "str4.partition('Hello')"
   ]
  },
  {
   "cell_type": "code",
   "execution_count": 53,
   "id": "9770bc3d",
   "metadata": {},
   "outputs": [
    {
     "data": {
      "text/plain": [
       "'..    ...   .HELLO   **  *  * *     '"
      ]
     },
     "execution_count": 53,
     "metadata": {},
     "output_type": "execute_result"
    }
   ],
   "source": [
    "str4.upper()"
   ]
  },
  {
   "cell_type": "code",
   "execution_count": 54,
   "id": "391b4b54",
   "metadata": {},
   "outputs": [
    {
     "data": {
      "text/plain": [
       "'..    ...   .hello   **  *  * *     '"
      ]
     },
     "execution_count": 54,
     "metadata": {},
     "output_type": "execute_result"
    }
   ],
   "source": [
    "str4.lower()"
   ]
  },
  {
   "cell_type": "code",
   "execution_count": 55,
   "id": "e98d9812",
   "metadata": {},
   "outputs": [
    {
     "data": {
      "text/plain": [
       "'..    ...   .Hello   **  *  * *     '"
      ]
     },
     "execution_count": 55,
     "metadata": {},
     "output_type": "execute_result"
    }
   ],
   "source": [
    "str4"
   ]
  },
  {
   "cell_type": "code",
   "execution_count": 56,
   "id": "f38e21ba",
   "metadata": {},
   "outputs": [],
   "source": [
    "str5='..    ...   .Hello @@@@   **  *  * *     '"
   ]
  },
  {
   "cell_type": "code",
   "execution_count": 57,
   "id": "c7e2e1e9",
   "metadata": {},
   "outputs": [
    {
     "data": {
      "text/plain": [
       "'..    ...   .hello @@@@   **  *  * *     '"
      ]
     },
     "execution_count": 57,
     "metadata": {},
     "output_type": "execute_result"
    }
   ],
   "source": [
    "str5.lower()"
   ]
  },
  {
   "cell_type": "code",
   "execution_count": 58,
   "id": "0f8aadbc",
   "metadata": {},
   "outputs": [
    {
     "data": {
      "text/plain": [
       "True"
      ]
     },
     "execution_count": 58,
     "metadata": {},
     "output_type": "execute_result"
    }
   ],
   "source": [
    "'@@@' in str5"
   ]
  },
  {
   "cell_type": "code",
   "execution_count": 59,
   "id": "76bcb2eb",
   "metadata": {},
   "outputs": [
    {
     "data": {
      "text/plain": [
       "False"
      ]
     },
     "execution_count": 59,
     "metadata": {},
     "output_type": "execute_result"
    }
   ],
   "source": [
    "'@@@@@' in str5"
   ]
  },
  {
   "cell_type": "code",
   "execution_count": 60,
   "id": "3055ef1c",
   "metadata": {},
   "outputs": [
    {
     "data": {
      "text/plain": [
       "False"
      ]
     },
     "execution_count": 60,
     "metadata": {},
     "output_type": "execute_result"
    }
   ],
   "source": [
    "\"@*\" in str5"
   ]
  },
  {
   "cell_type": "code",
   "execution_count": 61,
   "id": "85579755",
   "metadata": {},
   "outputs": [
    {
     "data": {
      "text/plain": [
       "True"
      ]
     },
     "execution_count": 61,
     "metadata": {},
     "output_type": "execute_result"
    }
   ],
   "source": [
    "'@@'in str5"
   ]
  },
  {
   "cell_type": "code",
   "execution_count": 62,
   "id": "98ad43ba",
   "metadata": {},
   "outputs": [
    {
     "data": {
      "text/plain": [
       "('..    ...   .Hello ', '@@', '@@   **  *  * *     ')"
      ]
     },
     "execution_count": 62,
     "metadata": {},
     "output_type": "execute_result"
    }
   ],
   "source": [
    "str5.partition('@@')"
   ]
  },
  {
   "cell_type": "code",
   "execution_count": 63,
   "id": "ef010d2b",
   "metadata": {},
   "outputs": [],
   "source": [
    "def sample():\n",
    "    print('hello')"
   ]
  },
  {
   "cell_type": "code",
   "execution_count": 64,
   "id": "d5eb0d75",
   "metadata": {},
   "outputs": [
    {
     "name": "stdout",
     "output_type": "stream",
     "text": [
      "hello\n"
     ]
    }
   ],
   "source": [
    "sample()"
   ]
  },
  {
   "cell_type": "code",
   "execution_count": 72,
   "id": "2e99297c",
   "metadata": {},
   "outputs": [],
   "source": [
    "def sample(name):\n",
    "    print('hello',name)"
   ]
  },
  {
   "cell_type": "code",
   "execution_count": 74,
   "id": "4532ef0a",
   "metadata": {},
   "outputs": [
    {
     "name": "stdout",
     "output_type": "stream",
     "text": [
      "hello shubham\n"
     ]
    }
   ],
   "source": [
    "sample('shubham')"
   ]
  },
  {
   "cell_type": "code",
   "execution_count": 75,
   "id": "f77d9ba7",
   "metadata": {},
   "outputs": [
    {
     "name": "stdout",
     "output_type": "stream",
     "text": [
      "hello datamites\n"
     ]
    }
   ],
   "source": [
    "sample('datamites')"
   ]
  },
  {
   "cell_type": "code",
   "execution_count": null,
   "id": "f000c767",
   "metadata": {},
   "outputs": [],
   "source": []
  }
 ],
 "metadata": {
  "kernelspec": {
   "display_name": "Python 3 (ipykernel)",
   "language": "python",
   "name": "python3"
  },
  "language_info": {
   "codemirror_mode": {
    "name": "ipython",
    "version": 3
   },
   "file_extension": ".py",
   "mimetype": "text/x-python",
   "name": "python",
   "nbconvert_exporter": "python",
   "pygments_lexer": "ipython3",
   "version": "3.11.3"
  }
 },
 "nbformat": 4,
 "nbformat_minor": 5
}
